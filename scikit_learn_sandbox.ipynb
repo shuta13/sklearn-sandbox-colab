{
  "nbformat": 4,
  "nbformat_minor": 0,
  "metadata": {
    "colab": {
      "name": "scikit-learn-sandbox",
      "provenance": [],
      "authorship_tag": "ABX9TyNOdvuIkfc61bB1tLRUu/N8",
      "include_colab_link": true
    },
    "kernelspec": {
      "name": "python3",
      "display_name": "Python 3"
    },
    "language_info": {
      "name": "python"
    }
  },
  "cells": [
    {
      "cell_type": "markdown",
      "metadata": {
        "id": "view-in-github",
        "colab_type": "text"
      },
      "source": [
        "<a href=\"https://colab.research.google.com/github/shuta13/sklearn-sandbox-colab/blob/main/scikit_learn_sandbox.ipynb\" target=\"_parent\"><img src=\"https://colab.research.google.com/assets/colab-badge.svg\" alt=\"Open In Colab\"/></a>"
      ]
    },
    {
      "cell_type": "code",
      "metadata": {
        "id": "LgissNcH7eLW"
      },
      "source": [
        "# ref: https://colab.research.google.com/github/chainer/tutorials/blob/master/ja/09_Introduction_to_Scikit-learn.ipynb"
      ],
      "execution_count": null,
      "outputs": []
    },
    {
      "cell_type": "code",
      "metadata": {
        "id": "YBJyV43K56OU"
      },
      "source": [
        "!pip install -U scikit-learn"
      ],
      "execution_count": null,
      "outputs": []
    },
    {
      "cell_type": "code",
      "metadata": {
        "id": "ZuzntGmu6b9Z"
      },
      "source": [
        "from sklearn.datasets import load_boston\n",
        "\n",
        "dataset = load_boston()"
      ],
      "execution_count": null,
      "outputs": []
    },
    {
      "cell_type": "code",
      "metadata": {
        "id": "1q2BakwJ7MlO"
      },
      "source": [
        "x = dataset.data\n",
        "t = dataset.target"
      ],
      "execution_count": null,
      "outputs": []
    },
    {
      "cell_type": "code",
      "metadata": {
        "colab": {
          "base_uri": "https://localhost:8080/"
        },
        "id": "fuWTRvR37SAK",
        "outputId": "df14f90a-a5b2-4b68-936d-0d5063d335cb"
      },
      "source": [
        "x.shape"
      ],
      "execution_count": null,
      "outputs": [
        {
          "output_type": "execute_result",
          "data": {
            "text/plain": [
              "(506, 13)"
            ]
          },
          "metadata": {},
          "execution_count": 4
        }
      ]
    },
    {
      "cell_type": "code",
      "metadata": {
        "colab": {
          "base_uri": "https://localhost:8080/"
        },
        "id": "EGsuMAwc7XWn",
        "outputId": "06625792-e07b-4f16-dea4-ab9b82fed845"
      },
      "source": [
        "t.shape"
      ],
      "execution_count": null,
      "outputs": [
        {
          "output_type": "execute_result",
          "data": {
            "text/plain": [
              "(506,)"
            ]
          },
          "metadata": {},
          "execution_count": 5
        }
      ]
    },
    {
      "cell_type": "code",
      "metadata": {
        "id": "RqJZnfzj7vP-"
      },
      "source": [
        "from sklearn.model_selection import train_test_split\n",
        "\n",
        "# 全サンプルからランダムに70%を訓練データとして抽出し、残った30%のデータをテストデータとして返す\n",
        "# random_state に毎回同じ同じ整数を与えると実行のたびに結果が変わることがなくなる\n",
        "x_train, x_test, t_train, t_test = train_test_split(x, t, test_size=0.3, random_state=0)"
      ],
      "execution_count": null,
      "outputs": []
    },
    {
      "cell_type": "code",
      "metadata": {
        "id": "Y6PAdNLq8f9P"
      },
      "source": [
        "from sklearn.linear_model import LinearRegression\n",
        "\n",
        "reg_model = LinearRegression()"
      ],
      "execution_count": null,
      "outputs": []
    },
    {
      "cell_type": "code",
      "metadata": {
        "colab": {
          "base_uri": "https://localhost:8080/"
        },
        "id": "S2Rp2ojq9BR2",
        "outputId": "b34dcdf0-d6e1-48fd-e293-2e1ab540b9f9"
      },
      "source": [
        "# モデルの訓練\n",
        "reg_model.fit(x_train, t_train)"
      ],
      "execution_count": null,
      "outputs": [
        {
          "output_type": "execute_result",
          "data": {
            "text/plain": [
              "LinearRegression()"
            ]
          },
          "metadata": {},
          "execution_count": 12
        }
      ]
    },
    {
      "cell_type": "code",
      "metadata": {
        "colab": {
          "base_uri": "https://localhost:8080/"
        },
        "id": "ll_RPn549NKI",
        "outputId": "5767ab2e-f5a0-46a5-f9e9-0ea38f97b58f"
      },
      "source": [
        "# 訓練後のパラメータ w(重み)\n",
        "reg_model.coef_"
      ],
      "execution_count": null,
      "outputs": [
        {
          "output_type": "execute_result",
          "data": {
            "text/plain": [
              "array([-1.21310401e-01,  4.44664254e-02,  1.13416945e-02,  2.51124642e+00,\n",
              "       -1.62312529e+01,  3.85906801e+00, -9.98516565e-03, -1.50026956e+00,\n",
              "        2.42143466e-01, -1.10716124e-02, -1.01775264e+00,  6.81446545e-03,\n",
              "       -4.86738066e-01])"
            ]
          },
          "metadata": {},
          "execution_count": 13
        }
      ]
    },
    {
      "cell_type": "code",
      "metadata": {
        "colab": {
          "base_uri": "https://localhost:8080/"
        },
        "id": "YaFDYVQ79Y76",
        "outputId": "023bf31e-b64e-4e82-e76b-21a6310afe61"
      },
      "source": [
        "# 訓練後のバイアス b\n",
        "reg_model.intercept_"
      ],
      "execution_count": null,
      "outputs": [
        {
          "output_type": "execute_result",
          "data": {
            "text/plain": [
              "37.93710774183309"
            ]
          },
          "metadata": {},
          "execution_count": 14
        }
      ]
    },
    {
      "cell_type": "code",
      "metadata": {
        "colab": {
          "base_uri": "https://localhost:8080/"
        },
        "id": "_72Hj66n9hWK",
        "outputId": "b11f9611-169f-4262-c22a-62c8ebaffe1d"
      },
      "source": [
        "# 訓練済みモデルを用いて訓練用データセットで計算した決定係数を求める\n",
        "# 入力値と目標値を与える\n",
        "reg_model.score(x_train, t_train)"
      ],
      "execution_count": null,
      "outputs": [
        {
          "output_type": "execute_result",
          "data": {
            "text/plain": [
              "0.7645451026942549"
            ]
          },
          "metadata": {},
          "execution_count": 15
        }
      ]
    },
    {
      "cell_type": "markdown",
      "metadata": {
        "id": "De59IieACCR2"
      },
      "source": [
        "やる気がなくなったので重回帰分析終わり"
      ]
    },
    {
      "cell_type": "code",
      "metadata": {
        "colab": {
          "base_uri": "https://localhost:8080/"
        },
        "id": "3NAGU5yfCEwL",
        "outputId": "2bab8c21-ebc8-459c-9e5d-73468e13610d"
      },
      "source": [
        "# https://scikit-learn.org/stable/modules/generated/sklearn.svm.SVR.html\n",
        "# ↑をボストンのデータで学習\n",
        "\n",
        "from sklearn.svm import SVR\n",
        "from sklearn.pipeline import make_pipeline\n",
        "from sklearn.preprocessing import StandardScaler\n",
        "\n",
        "regr = make_pipeline(StandardScaler(), SVR(C=1.0, epsilon=0.2))\n",
        "regr.fit(x_train, t_train)"
      ],
      "execution_count": null,
      "outputs": [
        {
          "output_type": "execute_result",
          "data": {
            "text/plain": [
              "Pipeline(steps=[('standardscaler', StandardScaler()),\n",
              "                ('svr', SVR(epsilon=0.2))])"
            ]
          },
          "metadata": {},
          "execution_count": 24
        }
      ]
    },
    {
      "cell_type": "code",
      "metadata": {
        "colab": {
          "base_uri": "https://localhost:8080/"
        },
        "id": "xGaBP9CkCiHA",
        "outputId": "f7d92f87-28bb-493d-b2c3-c5369ae1076b"
      },
      "source": [
        "regr.predict(x_test)"
      ],
      "execution_count": null,
      "outputs": [
        {
          "output_type": "execute_result",
          "data": {
            "text/plain": [
              "array([25.14026237, 19.02907465, 24.36767296, 13.53374266, 20.95883182,\n",
              "       19.41489106, 20.89982247, 20.07000678, 19.00683567, 18.85965491,\n",
              "       20.788081  , 13.65105369, 14.87679672, 13.3374993 , 26.88157904,\n",
              "       29.88842135, 21.49027712, 31.34915606, 28.83895926, 21.48232931,\n",
              "       23.80849272, 21.81791184, 18.8352386 , 27.96899922, 20.54142766,\n",
              "       17.87385466, 16.96447577, 18.54391008, 33.47151933, 18.62828988,\n",
              "       15.40195545, 17.39201543, 19.37755169, 21.20803717, 25.82025237,\n",
              "       21.07323925, 12.33119513, 22.36915916, 14.07973701, 13.47269493,\n",
              "       23.67886537, 20.19279478, 22.90706571, 15.08596328, 24.95158739,\n",
              "       23.17248401, 18.97719187, 21.44966319, 16.94881921, 22.93938085,\n",
              "       20.92292256, 19.68449947, 21.39528485, 29.20644376, 15.31191596,\n",
              "       21.15633401, 20.0429304 , 18.20681521, 19.58745358, 21.47171818,\n",
              "       20.72261573, 20.90562968, 31.54468769, 28.31041928, 18.47856558,\n",
              "       29.91706833, 16.24239145, 19.97264209, 14.11365795, 22.06331187,\n",
              "       20.91074156, 22.93239743, 26.52114243, 29.52477025, 23.10661872,\n",
              "       12.8187258 , 34.60545898, 22.75059366, 25.40710821, 18.38451046,\n",
              "       27.47425059, 18.76614119, 16.30739911, 34.27095018, 33.47865987,\n",
              "       23.68590807, 22.50523728, 15.06549745, 23.61471102, 15.66550376,\n",
              "       19.53691495, 12.24527062, 23.13303876, 28.88677937, 20.29849921,\n",
              "       20.81246513, 15.56633938, 24.41663772, 13.8347177 , 17.14877548,\n",
              "       24.5456968 , 20.13528715, 26.22219069, 21.57444248, 27.66705467,\n",
              "       21.74685054, 12.95123247, 16.68541879, 20.57583045, 27.38550872,\n",
              "       28.42751594, 12.43418573, 19.49881966, 18.92420549, 16.68983505,\n",
              "       22.81434718, 13.13612505, 19.60152234, 12.54567087, 26.49091499,\n",
              "       29.71148291, 12.64173719, 17.09340752, 20.28580748, 20.90271697,\n",
              "       19.09068295, 32.30194006, 15.74201259, 19.84415871, 28.45237743,\n",
              "       15.97349373, 13.35974488, 17.4621742 , 20.74081352, 13.36683558,\n",
              "       28.51194855, 22.56770118, 19.92734151, 25.33691437, 13.17979614,\n",
              "       13.24898534, 20.9646215 , 30.51136164, 26.72333927, 24.28533416,\n",
              "       15.73502705, 28.89774927, 28.62353467, 12.71882142, 11.87305997,\n",
              "       25.99184104, 24.08194839])"
            ]
          },
          "metadata": {},
          "execution_count": 26
        }
      ]
    }
  ]
}