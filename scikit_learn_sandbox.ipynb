{
  "nbformat": 4,
  "nbformat_minor": 0,
  "metadata": {
    "colab": {
      "name": "scikit-learn-sandbox",
      "provenance": [],
      "authorship_tag": "ABX9TyMyftU6PvdhYBiq1Sf+l1fF",
      "include_colab_link": true
    },
    "kernelspec": {
      "name": "python3",
      "display_name": "Python 3"
    },
    "language_info": {
      "name": "python"
    }
  },
  "cells": [
    {
      "cell_type": "markdown",
      "metadata": {
        "id": "view-in-github",
        "colab_type": "text"
      },
      "source": [
        "<a href=\"https://colab.research.google.com/github/shuta13/sklearn-sandbox-colab/blob/main/scikit_learn_sandbox.ipynb\" target=\"_parent\"><img src=\"https://colab.research.google.com/assets/colab-badge.svg\" alt=\"Open In Colab\"/></a>"
      ]
    },
    {
      "cell_type": "code",
      "metadata": {
        "id": "LgissNcH7eLW"
      },
      "source": [
        "# ref: https://colab.research.google.com/github/chainer/tutorials/blob/master/ja/09_Introduction_to_Scikit-learn.ipynb"
      ],
      "execution_count": null,
      "outputs": []
    },
    {
      "cell_type": "code",
      "metadata": {
        "id": "YBJyV43K56OU",
        "colab": {
          "base_uri": "https://localhost:8080/"
        },
        "outputId": "cd9fddb6-a36e-461f-a3cd-205388b55451"
      },
      "source": [
        "!pip install -U scikit-learn"
      ],
      "execution_count": 3,
      "outputs": [
        {
          "output_type": "stream",
          "name": "stdout",
          "text": [
            "Requirement already satisfied: scikit-learn in /usr/local/lib/python3.7/dist-packages (1.0.1)\n",
            "Requirement already satisfied: joblib>=0.11 in /usr/local/lib/python3.7/dist-packages (from scikit-learn) (1.0.1)\n",
            "Requirement already satisfied: scipy>=1.1.0 in /usr/local/lib/python3.7/dist-packages (from scikit-learn) (1.4.1)\n",
            "Requirement already satisfied: numpy>=1.14.6 in /usr/local/lib/python3.7/dist-packages (from scikit-learn) (1.19.5)\n",
            "Requirement already satisfied: threadpoolctl>=2.0.0 in /usr/local/lib/python3.7/dist-packages (from scikit-learn) (3.0.0)\n"
          ]
        }
      ]
    },
    {
      "cell_type": "code",
      "metadata": {
        "id": "ZuzntGmu6b9Z"
      },
      "source": [
        "from sklearn.model_selection import train_test_split, GridSearchCV\n",
        "from sklearn.svm import SVR\n",
        "from sklearn.pipeline import make_pipeline\n",
        "from sklearn.preprocessing import StandardScaler\n",
        "import pandas as pd\n",
        "import numpy as np"
      ],
      "execution_count": 8,
      "outputs": []
    },
    {
      "cell_type": "code",
      "metadata": {
        "id": "xzNH6t-lErWr"
      },
      "source": [
        "# https://scikit-learn.org/stable/modules/generated/sklearn.datasets.load_boston.html\n",
        "data_url = \"http://lib.stat.cmu.edu/datasets/boston\"\n",
        "raw_df = pd.read_csv(data_url, sep=\"\\s+\", skiprows=22, header=None)\n",
        "data = np.hstack([raw_df.values[::2, :], raw_df.values[1::2, :2]])\n",
        "target = raw_df.values[1::2, 2]\n",
        "\n",
        "# 6:2:2 に分割する\n",
        "X, X_test, y, y_test = train_test_split(data, target, test_size=0.2, random_state=0)"
      ],
      "execution_count": 9,
      "outputs": []
    },
    {
      "cell_type": "code",
      "metadata": {
        "colab": {
          "base_uri": "https://localhost:8080/"
        },
        "id": "3BTdvsfwEYHx",
        "outputId": "bb96d7e3-ef34-47fb-a3ab-1066b88ceecf"
      },
      "source": [
        "# 交差検証のジェネレーター関数\n",
        "def gen_cv():\n",
        "  m_train = np.floor(len(y) * 0.75).astype(int)\n",
        "  train_indices = np.arange(m_train)\n",
        "  test_indices = np.arange(m_train, len(y))\n",
        "  yield (train_indices, test_indices)\n",
        "\n",
        "print(\"訓練データ、交差検証データ、テストデータの数 : \", end=\"\")\n",
        "print(len(next(gen_cv())[0]), len(next(gen_cv())[1]), len(y_test) )"
      ],
      "execution_count": 27,
      "outputs": [
        {
          "output_type": "stream",
          "name": "stdout",
          "text": [
            "訓練データ、交差検証データ、テストデータの数 : 303 101 102\n"
          ]
        }
      ]
    },
    {
      "cell_type": "code",
      "metadata": {
        "id": "mklRi0L6EY95"
      },
      "source": [
        "# 訓練データを基準に標準化\n",
        "scaler = StandardScaler()\n",
        "X_norm = scaler.fit_transform(X)\n",
        "# テストデータも標準化\n",
        "X_test_norm = scaler.transform(X_test)"
      ],
      "execution_count": null,
      "outputs": []
    },
    {
      "cell_type": "code",
      "metadata": {
        "colab": {
          "base_uri": "https://localhost:8080/"
        },
        "id": "gqOvqOMdFu1g",
        "outputId": "52a1868e-aefa-4074-d03d-a4713c46a3ec"
      },
      "source": [
        "# ハイパーパラメータのチューニング\n",
        "params_cnt = 20\n",
        "\n",
        "KERNEL = \"rbf\"\n",
        "\n",
        "# params for rbf(default)\n",
        "params = {\n",
        "    \"C\": np.logspace(2, 0, params_cnt),\n",
        "    \"epsilon\": np.logspace(-1, 1, params_cnt),\n",
        "}\n",
        "\n",
        "if KERNEL == \"poly\":\n",
        "  params[\"\"]\n",
        "elif KERNEL == \"sigmoid\":\n",
        "  params[\"gamma\"] = np.logspace(-4, -1, params_cnt)\n",
        "  params[\"coef0\"] = np.logspace(-3, 0, params_cnt)\n",
        "  grid_search = GridSearchCV(SVR(kernel=KERNEL), params, cv=gen_cv(), return_train_score=True, verbose=True)\n",
        "  grid_search.fit(X_norm, y)\n",
        "elif KERNEL == \"linear\":\n",
        "  params[\"\"]\n",
        "elif KERNEL == \"rbf\":\n",
        "  grid_search = GridSearchCV(SVR(kernel=KERNEL), params, cv=gen_cv(), scoring=\"r2\", return_train_score=True)\n",
        "  grid_search.fit(X_norm, y)\n",
        "\n",
        "print(\"最適なパラメーター : \", grid_search.best_params_)\n",
        "print(\"決定係数 : \", grid_search.best_score_)"
      ],
      "execution_count": 39,
      "outputs": [
        {
          "output_type": "stream",
          "name": "stdout",
          "text": [
            "最適なパラメーター :  {'C': 78.47599703514615, 'epsilon': 0.8858667904100825}\n",
            "決定係数 :  0.9320541390535148\n"
          ]
        }
      ]
    },
    {
      "cell_type": "code",
      "metadata": {
        "colab": {
          "base_uri": "https://localhost:8080/"
        },
        "id": "IZsPxth5KELH",
        "outputId": "dd2a51e6-1fd4-4d28-9965-c5c04236ec1b"
      },
      "source": [
        "# チューニングしたC, εでフィット\n",
        "regr = grid_search.best_estimator_\n",
        "train_indices = next(gen_cv())[0]\n",
        "valid_indices = next(gen_cv())[1]\n",
        "regr.fit(X_norm[train_indices, :], y[train_indices])"
      ],
      "execution_count": 40,
      "outputs": [
        {
          "output_type": "execute_result",
          "data": {
            "text/plain": [
              "SVR(C=78.47599703514615, epsilon=0.8858667904100825)"
            ]
          },
          "metadata": {},
          "execution_count": 40
        }
      ]
    },
    {
      "cell_type": "code",
      "metadata": {
        "colab": {
          "base_uri": "https://localhost:8080/"
        },
        "id": "zOaN87RbKyem",
        "outputId": "6332d744-bb96-4cbb-d3b8-678f9b1df9db"
      },
      "source": [
        "# テストデータの精度を計算\n",
        "print(\"テストデータの精度 : \", regr.score(X_test_norm, y_test))"
      ],
      "execution_count": 41,
      "outputs": [
        {
          "output_type": "stream",
          "name": "stdout",
          "text": [
            "テストデータの精度 :  0.7348897466224369\n"
          ]
        }
      ]
    },
    {
      "cell_type": "markdown",
      "metadata": {
        "id": "sZufry53ZJa_"
      },
      "source": [
        "メモ\n",
        "* kernel を sigmoid にすると精度が下がった(0.5ぐらい)\n",
        "* ボストンで行っているので本番どうなるかはわからない\n",
        "* 本番の colab は公開しない( private で行って論文に書く )\n",
        "\n"
      ]
    }
  ]
}